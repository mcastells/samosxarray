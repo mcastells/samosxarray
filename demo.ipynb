{
 "cells": [
  {
   "attachments": {},
   "cell_type": "markdown",
   "metadata": {},
   "source": [
    "# Reading and writing SAMOS .nc files with samosxarray"
   ]
  },
  {
   "cell_type": "code",
   "execution_count": 9,
   "metadata": {},
   "outputs": [],
   "source": [
    "import os\n",
    "import samosxarray as sx\n",
    "import metpy.calc as mpcalc\n",
    "import matplotlib.pyplot as plt\n",
    "import matplotlib.dates as mdates"
   ]
  },
  {
   "attachments": {},
   "cell_type": "markdown",
   "metadata": {},
   "source": [
    "## samosxarray.open_dataset(filepath)\n",
    "\n",
    "samosxarray.open_dataset(filepath) returns an xarray Dataset where the values in each DataArray are set to np.nan based on the lists of good_flags or bad_flags provided. If no list of flags are provided, this array only contains values flagged as \"Z\", which means \"good data\".\n",
    "\n",
    "samosxarray also automatically fixes RH data over 100% by default, but this can be disabled by adding the \"fix_rh_over_100=False\" argument to open_dataset. This fix involves taking RH data that is between 100-105% and has qc flag \"B\", adjusting the value to 100%, and changing the flag to \"Z\". “B” indicates that original data were out of a physically realistic range of 0-100%. This code is often applied in conditions where relative humidity is close to 100% because the instrument erroneously reads slightly above 100%. This can occur when relative humidity sensors are tuned to be more responsive in the upper humidity range, which can cause the readings to “overshoot” when saturation conditions exist (Briggs and Smith 2022; Wiederhold 1997).\n",
    "\n",
    "This samosxarray Dataset can be treated like any other xarray Dataset. For example, printing the dataset will give a summary of its contents."
   ]
  },
  {
   "cell_type": "code",
   "execution_count": 10,
   "metadata": {},
   "outputs": [
    {
     "name": "stdout",
     "output_type": "stream",
     "text": [
      "Opening WCX7445_20111009v30001.nc\n",
      "<xarray.Dataset>\n",
      "Dimensions:   (time: 1440, f_string: 23, h_num: 50, h_string: 236)\n",
      "Coordinates:\n",
      "  * time      (time) datetime64[ns] 2011-10-09 ... 2011-10-09T23:59:00\n",
      "  * f_string  (f_string) int64 1 2 3 4 5 6 7 8 9 ... 15 16 17 18 19 20 21 22 23\n",
      "Dimensions without coordinates: h_num, h_string\n",
      "Data variables: (12/24)\n",
      "    lat       (time) float32 -56.32 -56.32 -56.33 ... -59.91 -59.91 -59.91\n",
      "    lon       (time) float32 296.4 296.4 296.4 296.4 ... 300.3 300.3 300.3 300.3\n",
      "    PL_HD     (time) float32 149.6 147.8 149.4 149.8 ... 146.5 148.7 147.2 145.7\n",
      "    PL_CRS    (time) float32 151.5 149.7 151.2 149.6 ... 149.4 151.3 150.3 150.2\n",
      "    DIR       (time) float32 334.5 336.1 336.5 335.5 ... 350.5 350.6 347.7 349.6\n",
      "    DIR2      (time) float32 340.5 340.4 342.0 340.8 ... 354.7 354.3 353.3 353.6\n",
      "    ...        ...\n",
      "    CNDC      (time) float32 3.31 3.3 3.3 3.3 3.31 ... 2.81 2.81 2.81 2.81 2.81\n",
      "    RAD_PAR   (time) float32 nan nan nan nan nan nan ... nan nan nan nan nan nan\n",
      "    RAD_NET   (time) float32 3.213 3.233 3.266 3.266 ... 3.156 3.16 3.156 3.158\n",
      "    RAD_NET2  (time) float32 0.0 0.0 0.0 0.0 0.0 ... 0.0 0.0 0.0 0.0001 0.0001\n",
      "    flag      (time, f_string) |S1 b'Z' b'Z' b'Z' b'Z' ... b'Z' b'B' b'Z' b'Z'\n",
      "    history   (h_num, h_string) |S1 ...\n",
      "Attributes: (12/19)\n",
      "    title:                       LAURENCE M. GOULD Meteorological Data\n",
      "    site:                        LAURENCE M. GOULD\n",
      "    elev:                        0\n",
      "    ID:                          WCX7445\n",
      "    IMO:                         009137337\n",
      "    platform:                    RVDAS\n",
      "    ...                          ...\n",
      "    start_date_time:             2011/10/09 -- 00:00  UTC\n",
      "    end_date_time:               2011/10/09 -- 23:59  UTC\n",
      "    EXPOCODE:                    EXPOCODE undefined for now\n",
      "    Cruise_id:                   Cruise_id undefined for now\n",
      "    Data_modification_date:      10/19/2011 12:01:39 EDT\n",
      "    Metadata_modification_date:  10/19/2011 12:01:39 EDT\n"
     ]
    }
   ],
   "source": [
    "filepath = 'WCX7445_20111009v30001.nc'\n",
    "    \n",
    "print(f'Opening {filepath}')\n",
    "\n",
    "ds = sx.open_dataset(filepath)\n",
    "\n",
    "print(ds)"
   ]
  },
  {
   "attachments": {},
   "cell_type": "markdown",
   "metadata": {},
   "source": [
    "## samosxarray.ds_flag_summary(ds)\n",
    "\n",
    "samosxarray also adds some functionality specific to SAMOS Datasets. For example, the samosxarray.ds_flag_summary(ds) function gives a list of the data variables in the dataset with a list of flags applied to each data variable, the flag meaning, and how many values have that flag applied."
   ]
  },
  {
   "cell_type": "code",
   "execution_count": 11,
   "metadata": {},
   "outputs": [
    {
     "name": "stdout",
     "output_type": "stream",
     "text": [
      "\n",
      "SAMOS flags:\n",
      "    lat (degree) [latitude (degrees (+N))]\n",
      "        Z (Good data): 1440 (100.0%)\n",
      "    lon (degree) [longitude (degrees (-W/+E))]\n",
      "        Z (Good data): 1440 (100.0%)\n",
      "    PL_HD (degree) [platform heading (degrees (clockwise towards true north))]\n",
      "        Z (Good data): 1440 (100.0%)\n",
      "    PL_CRS (degree) [platform course (degrees (clockwise towards true north))]\n",
      "        Z (Good data): 1440 (100.0%)\n",
      "    DIR (degree) [earth relative wind direction port (degrees (clockwise from true north))]\n",
      "        K (Suspect - visual): 110 (7.6%)\n",
      "        S (Spike - visual): 7 (0.5%)\n",
      "        Z (Good data): 1323 (91.9%)\n",
      "    DIR2 (degree) [earth relative wind direction starboard (degrees (clockwise from true north))]\n",
      "        K (Suspect - visual): 18 (1.2%)\n",
      "        Z (Good data): 1422 (98.8%)\n",
      "    PL_WDIR (degree) [platform relative wind direction port (degrees (clockwise from bow))]\n",
      "        Z (Good data): 1440 (100.0%)\n",
      "    PL_WDIR2 (degree) [platform relative wind direction starboard (degrees (clockwise from bow))]\n",
      "        Z (Good data): 1440 (100.0%)\n",
      "    PL_SPD (meter second-1) [platform speed over ground (kilometer hour-1)]\n",
      "        Z (Good data): 1440 (100.0%)\n",
      "    SPD (meter second-1) [earth relative wind speed port (meter second-1)]\n",
      "        Z (Good data): 1440 (100.0%)\n",
      "    SPD2 (meter second-1) [earth relative wind speed starboard (meter second-1)]\n",
      "        Z (Good data): 1440 (100.0%)\n",
      "    PL_WSPD (meter second-1) [platform relative wind speed port (meter second-1)]\n",
      "        Z (Good data): 1440 (100.0%)\n",
      "    PL_WSPD2 (meter second-1) [platform relative wind speed starboard (meter second-1)]\n",
      "        Z (Good data): 1440 (100.0%)\n",
      "    P (millibar) [atmospheric pressure (millibar)]\n",
      "        K (Suspect - visual): 7 (0.5%)\n",
      "        S (Spike - visual): 3 (0.2%)\n",
      "        Z (Good data): 1430 (99.3%)\n",
      "    T (celsius) [air temperature (celsius)]\n",
      "        K (Suspect - visual): 17 (1.2%)\n",
      "        Z (Good data): 1423 (98.8%)\n",
      "    RH (percent) [relative humidity (percent)]\n",
      "        K (Suspect - visual): 10 (0.7%)\n",
      "        Z (Good data): 1430 (99.3%)\n",
      "    TS (celsius) [sea temperature (celsius)]\n",
      "        Z (Good data): 1440 (100.0%)\n",
      "    SSPS (g kg-1) [salinity (PSU)]\n",
      "        Z (Good data): 1440 (100.0%)\n",
      "    CNDC (siemens meter-1) [conductivity (siemens meter-1)]\n",
      "        Z (Good data): 1440 (100.0%)\n",
      "    RAD_PAR (microeinstein meter-2 second-1) [photosynthetically active atmospheric radiation (microeinstein centimeter-2 second-1)]\n",
      "        B (Data out of range): 1136 (78.9%)\n",
      "        J (Erroneous): 304 (21.1%)\n",
      "    RAD_NET (watts meter-2) [net shortwave atmospheric radiation (microwatt centimeter-2)]\n",
      "        Z (Good data): 1440 (100.0%)\n",
      "    RAD_NET2 (watts meter-2) [net longwave atmospheric radiation 2 (microwatt centimeter-2)]\n",
      "        Z (Good data): 1440 (100.0%)\n"
     ]
    }
   ],
   "source": [
    "print(sx.ds_flag_summary(ds))"
   ]
  },
  {
   "attachments": {},
   "cell_type": "markdown",
   "metadata": {},
   "source": [
    "## Metpy calculations and quantify\n",
    "\n",
    "Metpy adds the ability to \"quantify\" a DataArray, which returns a masked array with units applied based on the units specified in the DataArray \"units\" attribute. These \"unit aware\" values can then be used in Metpy calculations that will automatically handle any unit conversions necessary."
   ]
  },
  {
   "cell_type": "code",
   "execution_count": 12,
   "metadata": {},
   "outputs": [
    {
     "name": "stdout",
     "output_type": "stream",
     "text": [
      "dewpoint = <xarray.DataArray (time: 1440)>\n",
      "<Quantity([4.6131897  4.6183777  4.6131897  ... 0.48999023 0.47000122 0.45999146], 'degree_Celsius')>\n",
      "Coordinates:\n",
      "  * time     (time) datetime64[ns] 2011-10-09 ... 2011-10-09T23:59:00\n"
     ]
    }
   ],
   "source": [
    "dewpoint = mpcalc.dewpoint_from_relative_humidity(temperature=ds['T'].metpy.quantify(), relative_humidity=ds['RH'].metpy.quantify())\n",
    "\n",
    "print(f\"{dewpoint = }\")"
   ]
  },
  {
   "attachments": {},
   "cell_type": "markdown",
   "metadata": {},
   "source": [
    "## Plotting calculation results alongside input data\n",
    "\n",
    "Metpy calculations can take single values or xarray DataArrays. When given DataArrays as input, the calculation returns a DataArray which can then be treated like the other DataArrays from the Dataset. For example, they can be plotted alongside each other because they have the same dimensions/coordinates."
   ]
  },
  {
   "cell_type": "code",
   "execution_count": 13,
   "metadata": {},
   "outputs": [
    {
     "data": {
      "image/png": "[encoded data removed]",
      "text/plain": [
       "<Figure size 640x480 with 2 Axes>"
      ]
     },
     "metadata": {},
     "output_type": "display_data"
    }
   ],
   "source": [
    "fig, ax1 = plt.subplots()\n",
    "fig.suptitle(ds.title)\n",
    "\n",
    "ax1.set_ylabel(ds['T'].units)\n",
    "\n",
    "ax2 = ax1.twinx()\n",
    "ax2.set_ylabel(ds['RH'].units)\n",
    "ax2.set_ylim(0, 100.5)\n",
    "\n",
    "t_plot, = ax1.plot(ds.time, ds['T'], label=ds['T'].long_name)\n",
    "rh_plot, = ax2.plot(ds.time, ds['RH'], c='green', label=ds['RH'].long_name)\n",
    "dewpoint_plot, = ax1.plot(ds.time, dewpoint, label='dewpoint')\n",
    "\n",
    "ax1.xaxis.set_major_formatter(\n",
    "mdates.ConciseDateFormatter(ax1.xaxis.get_major_locator()))\n",
    "\n",
    "ax1.legend([t_plot, dewpoint_plot, rh_plot], [t_plot.get_label(), dewpoint_plot.get_label(), rh_plot.get_label()])\n",
    "\n",
    "plt.show()"
   ]
  },
  {
   "attachments": {},
   "cell_type": "markdown",
   "metadata": {},
   "source": [
    "## samosxarray.var_flag_summary(ds, var_name)\n",
    "\n",
    "samosxarray also provides functions getting and setting flags. samosxarray.var_flag_summary(ds, var_name) returns a flag summary as demonstrated earlier, but for a single variable."
   ]
  },
  {
   "cell_type": "code",
   "execution_count": 14,
   "metadata": {},
   "outputs": [
    {
     "name": "stdout",
     "output_type": "stream",
     "text": [
      "\n",
      "    SSPS (g kg-1) [salinity (PSU)]\n",
      "        Z (Good data): 1440 (100.0%)\n"
     ]
    }
   ],
   "source": [
    "print(sx.var_flag_summary(ds, var_name='SSPS'))"
   ]
  },
  {
   "attachments": {},
   "cell_type": "markdown",
   "metadata": {},
   "source": [
    "## samosxarray.get_var_flags(ds, var_name)\n",
    "\n",
    "SAMOS datasets store flags as a 2-D array, where one dimension is the variable's qcindex and the other dimension is time. samosxarray.get_var_flags(ds, var_name) returns a 1-D DataArray with the flags for that specific variable."
   ]
  },
  {
   "cell_type": "code",
   "execution_count": 15,
   "metadata": {},
   "outputs": [
    {
     "name": "stdout",
     "output_type": "stream",
     "text": [
      "<xarray.DataArray 'flag' (time: 1440)>\n",
      "array([b'Z', b'Z', b'Z', ..., b'Z', b'Z', b'Z'], dtype='|S1')\n",
      "Coordinates:\n",
      "  * time      (time) datetime64[ns] 2011-10-09 ... 2011-10-09T23:59:00\n",
      "    f_string  int64 19\n",
      "Attributes: (12/26)\n",
      "    long_name:  quality control flags\n",
      "    A:          Units added\n",
      "    B:          Data out of range\n",
      "    C:          Non-sequential time\n",
      "    D:          Failed T>=Tw>=Td\n",
      "    E:          True wind error\n",
      "    ...         ...\n",
      "    T:          Time duplicate\n",
      "    U:          Suspect - statistial\n",
      "    V:          Spike - statistical\n",
      "    X:          Step - statistical\n",
      "    Y:          Suspect between X-flags\n",
      "    Z:          Good data\n"
     ]
    }
   ],
   "source": [
    "salinity_flags = sx.get_var_flags(ds, var_name='SSPS')\n",
    "print(salinity_flags)"
   ]
  },
  {
   "attachments": {},
   "cell_type": "markdown",
   "metadata": {},
   "source": [
    "## samosxarray.update_flag(ds, var_name, index, new_flag_value)\n",
    "\n",
    "samosxarray.update_flag(ds, var_name, index, new_flag_value) provides a simple way to change the flag for a single value. This can be called in a loop to flag a range of indices."
   ]
  },
  {
   "cell_type": "code",
   "execution_count": 16,
   "metadata": {},
   "outputs": [
    {
     "name": "stdout",
     "output_type": "stream",
     "text": [
      "\n",
      "    SSPS (g kg-1) [salinity (PSU)]\n",
      "        K (Suspect - visual): 100 (6.9%)\n",
      "        Z (Good data): 1340 (93.1%)\n"
     ]
    }
   ],
   "source": [
    "for index in range(100,200):\n",
    "    ds = sx.update_flag(ds, 'SSPS', index, b'K')\n",
    "\n",
    "print(sx.var_flag_summary(ds, 'SSPS'))"
   ]
  },
  {
   "attachments": {},
   "cell_type": "markdown",
   "metadata": {},
   "source": [
    "## samosxarray.to_samos_netcdf(filepath)\n",
    "\n",
    "samosxarray.to_samos_netcdf(filepath) saves the samosxarray Dataset to a .nc file. This uses the xarray.to_netcdf(filepath) function, but applies settings necessary for SAMOS .nc files:\n",
    "- NETCDF3_CLASSIC format\n",
    "- \"minutes since 1980-1-1 0:0:0\" time units\n",
    "\n",
    "This function also uses the ncwa and ncatted command line tools from NCO to remove the extra dimension (called \"string1\") that xarray adds when saving a NETCDF3_CLASSIC dataset that contains a character array (the flag 2-D array). If you are running this in an environment that does not have NCO installed, you can disable this part of the function by adding the argument fix_dims=False."
   ]
  },
  {
   "cell_type": "code",
   "execution_count": 17,
   "metadata": {},
   "outputs": [],
   "source": [
    "sx.to_samos_netcdf(ds, 'demo.nc')\n",
    "\n",
    "ds.close()"
   ]
  },
  {
   "attachments": {},
   "cell_type": "markdown",
   "metadata": {},
   "source": [
    "We can check that this worked by opening the file we created, printing its contents, closing it, and deleting it."
   ]
  },
  {
   "cell_type": "code",
   "execution_count": 18,
   "metadata": {},
   "outputs": [
    {
     "name": "stdout",
     "output_type": "stream",
     "text": [
      "<xarray.Dataset>\n",
      "Dimensions:   (time: 1440, f_string: 23, h_num: 50, h_string: 236)\n",
      "Coordinates:\n",
      "  * time      (time) datetime64[ns] 2011-10-09 ... 2011-10-09T23:59:00\n",
      "  * f_string  (f_string) int64 1 2 3 4 5 6 7 8 9 ... 15 16 17 18 19 20 21 22 23\n",
      "Dimensions without coordinates: h_num, h_string\n",
      "Data variables: (12/24)\n",
      "    lat       (time) float32 -56.32 -56.32 -56.33 ... -59.91 -59.91 -59.91\n",
      "    lon       (time) float32 296.4 296.4 296.4 296.4 ... 300.3 300.3 300.3 300.3\n",
      "    PL_HD     (time) float32 149.6 147.8 149.4 149.8 ... 146.5 148.7 147.2 145.7\n",
      "    PL_CRS    (time) float32 151.5 149.7 151.2 149.6 ... 149.4 151.3 150.3 150.2\n",
      "    DIR       (time) float32 334.5 336.1 336.5 335.5 ... 350.5 350.6 347.7 349.6\n",
      "    DIR2      (time) float32 340.5 340.4 342.0 340.8 ... 354.7 354.3 353.3 353.6\n",
      "    ...        ...\n",
      "    CNDC      (time) float32 3.31 3.3 3.3 3.3 3.31 ... 2.81 2.81 2.81 2.81 2.81\n",
      "    RAD_PAR   (time) float32 nan nan nan nan nan nan ... nan nan nan nan nan nan\n",
      "    RAD_NET   (time) float32 3.213 3.233 3.266 3.266 ... 3.156 3.16 3.156 3.158\n",
      "    RAD_NET2  (time) float32 0.0 0.0 0.0 0.0 0.0 ... 0.0 0.0 0.0 0.0001 0.0001\n",
      "    flag      (time, f_string) |S1 ...\n",
      "    history   (h_num, h_string) |S1 ...\n",
      "Attributes: (12/21)\n",
      "    title:                       LAURENCE M. GOULD Meteorological Data\n",
      "    site:                        LAURENCE M. GOULD\n",
      "    elev:                        0\n",
      "    ID:                          WCX7445\n",
      "    IMO:                         009137337\n",
      "    platform:                    RVDAS\n",
      "    ...                          ...\n",
      "    EXPOCODE:                    EXPOCODE undefined for now\n",
      "    Cruise_id:                   Cruise_id undefined for now\n",
      "    Data_modification_date:      10/19/2011 12:01:39 EDT\n",
      "    Metadata_modification_date:  10/19/2011 12:01:39 EDT\n",
      "    history:                     Sat Mar  4 18:20:07 2023: ncatted -a cell_me...\n",
      "    NCO:                         netCDF Operators version 5.0.6 (Homepage = h...\n",
      "\n",
      "SAMOS flags:\n",
      "    lat (degree) [latitude (degrees (+N))]\n",
      "        Z (Good data): 1440 (100.0%)\n",
      "    lon (degree) [longitude (degrees (-W/+E))]\n",
      "        Z (Good data): 1440 (100.0%)\n",
      "    PL_HD (degree) [platform heading (degrees (clockwise towards true north))]\n",
      "        Z (Good data): 1440 (100.0%)\n",
      "    PL_CRS (degree) [platform course (degrees (clockwise towards true north))]\n",
      "        Z (Good data): 1440 (100.0%)\n",
      "    DIR (degree) [earth relative wind direction port (degrees (clockwise from true north))]\n",
      "        K (Suspect - visual): 110 (7.6%)\n",
      "        S (Spike - visual): 7 (0.5%)\n",
      "        Z (Good data): 1323 (91.9%)\n",
      "    DIR2 (degree) [earth relative wind direction starboard (degrees (clockwise from true north))]\n",
      "        K (Suspect - visual): 18 (1.2%)\n",
      "        Z (Good data): 1422 (98.8%)\n",
      "    PL_WDIR (degree) [platform relative wind direction port (degrees (clockwise from bow))]\n",
      "        Z (Good data): 1440 (100.0%)\n",
      "    PL_WDIR2 (degree) [platform relative wind direction starboard (degrees (clockwise from bow))]\n",
      "        Z (Good data): 1440 (100.0%)\n",
      "    PL_SPD (meter second-1) [platform speed over ground (kilometer hour-1)]\n",
      "        Z (Good data): 1440 (100.0%)\n",
      "    SPD (meter second-1) [earth relative wind speed port (meter second-1)]\n",
      "        Z (Good data): 1440 (100.0%)\n",
      "    SPD2 (meter second-1) [earth relative wind speed starboard (meter second-1)]\n",
      "        Z (Good data): 1440 (100.0%)\n",
      "    PL_WSPD (meter second-1) [platform relative wind speed port (meter second-1)]\n",
      "        Z (Good data): 1440 (100.0%)\n",
      "    PL_WSPD2 (meter second-1) [platform relative wind speed starboard (meter second-1)]\n",
      "        Z (Good data): 1440 (100.0%)\n",
      "    P (millibar) [atmospheric pressure (millibar)]\n",
      "        K (Suspect - visual): 7 (0.5%)\n",
      "        S (Spike - visual): 3 (0.2%)\n",
      "        Z (Good data): 1430 (99.3%)\n",
      "    T (celsius) [air temperature (celsius)]\n",
      "        K (Suspect - visual): 17 (1.2%)\n",
      "        Z (Good data): 1423 (98.8%)\n",
      "    RH (percent) [relative humidity (percent)]\n",
      "        K (Suspect - visual): 10 (0.7%)\n",
      "        Z (Good data): 1430 (99.3%)\n",
      "    TS (celsius) [sea temperature (celsius)]\n",
      "        Z (Good data): 1440 (100.0%)\n",
      "    SSPS (g kg-1) [salinity (PSU)]\n",
      "        K (Suspect - visual): 100 (6.9%)\n",
      "        Z (Good data): 1340 (93.1%)\n",
      "    CNDC (siemens meter-1) [conductivity (siemens meter-1)]\n",
      "        Z (Good data): 1440 (100.0%)\n",
      "    RAD_PAR (microeinstein meter-2 second-1) [photosynthetically active atmospheric radiation (microeinstein centimeter-2 second-1)]\n",
      "        B (Data out of range): 1136 (78.9%)\n",
      "        J (Erroneous): 304 (21.1%)\n",
      "    RAD_NET (watts meter-2) [net shortwave atmospheric radiation (microwatt centimeter-2)]\n",
      "        Z (Good data): 1440 (100.0%)\n",
      "    RAD_NET2 (watts meter-2) [net longwave atmospheric radiation 2 (microwatt centimeter-2)]\n",
      "        Z (Good data): 1440 (100.0%)\n"
     ]
    }
   ],
   "source": [
    "ds = sx.open_dataset('demo.nc')\n",
    "\n",
    "print(ds)\n",
    "print(sx.ds_flag_summary(ds))\n",
    "\n",
    "ds.close()\n",
    "\n",
    "os.remove('demo.nc')"
   ]
  }
 ],
 "metadata": {
  "kernelspec": {
   "display_name": "jupyter",
   "language": "python",
   "name": "python3"
  },
  "language_info": {
   "codemirror_mode": {
    "name": "ipython",
    "version": 3
   },
   "file_extension": ".py",
   "mimetype": "text/x-python",
   "name": "python",
   "nbconvert_exporter": "python",
   "pygments_lexer": "ipython3",
   "version": "3.11.0"
  },
  "orig_nbformat": 4
 },
 "nbformat": 4,
 "nbformat_minor": 2
}
